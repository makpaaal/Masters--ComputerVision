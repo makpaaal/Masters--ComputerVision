{
 "cells": [
  {
   "cell_type": "markdown",
   "metadata": {},
   "source": [
    "Task1"
   ]
  },
  {
   "cell_type": "code",
   "execution_count": 35,
   "metadata": {},
   "outputs": [],
   "source": [
    "def DecimalToBinary(num, binary_arr):\n",
    "        if num >= 1:\n",
    "            DecimalToBinary(num // 2, binary_arr)\n",
    "            binary_arr.append(num % 2)"
   ]
  },
  {
   "cell_type": "code",
   "execution_count": 36,
   "metadata": {},
   "outputs": [],
   "source": [
    "def binary_gap(N):\n",
    "    binary_arr = []\n",
    "    DecimalToBinary(N, binary_arr)\n",
    "    binary_str = \"\"\n",
    "    for el in binary_arr:        \n",
    "        binary_str += str(el)\n",
    "    \n",
    "    return len(max(binary_str.strip('0').split('1'))) "
   ]
  },
  {
   "cell_type": "code",
   "execution_count": 39,
   "metadata": {},
   "outputs": [
    {
     "name": "stdout",
     "output_type": "stream",
     "text": [
      "5\n"
     ]
    }
   ],
   "source": [
    "print(binary_gap(1041))"
   ]
  },
  {
   "cell_type": "markdown",
   "metadata": {},
   "source": [
    "Task3"
   ]
  },
  {
   "cell_type": "code",
   "execution_count": 54,
   "metadata": {},
   "outputs": [],
   "source": [
    "A = [12,4,5,12,6,5,6]"
   ]
  },
  {
   "cell_type": "code",
   "execution_count": 55,
   "metadata": {},
   "outputs": [
    {
     "name": "stdout",
     "output_type": "stream",
     "text": [
      "4\n"
     ]
    }
   ],
   "source": [
    "for i in range(len(A)):\n",
    "    curr = A.pop(i)\n",
    "    for j in range(len(A)):\n",
    "        if A[j] == curr:\n",
    "            A.pop(j)\n",
    "            break\n",
    "    if len(A) == 1:\n",
    "        print(A[0])\n",
    "        break\n"
   ]
  },
  {
   "cell_type": "markdown",
   "metadata": {},
   "source": [
    "Task2"
   ]
  },
  {
   "cell_type": "code",
   "execution_count": 63,
   "metadata": {},
   "outputs": [],
   "source": [
    "def count_intersection(A):\n",
    "    discs_count = len(A)            \n",
    "    range_upper = [0]*discs_count  \n",
    "    range_lower = [0]*discs_count\n",
    "    for i in range(0, discs_count):\n",
    "        range_upper[i] = i + A[i]\n",
    "        range_lower[i] = i - A[i]\n",
    "    range_upper.sort()\n",
    "    range_lower.sort()\n",
    "    range_lower_index = 0\n",
    "    intersect_count = 0\n",
    "    for range_upper_index in range(0, discs_count):\n",
    "        while range_lower_index < discs_count and range_upper[range_upper_index] >= range_lower[range_lower_index]:\n",
    "            range_lower_index += 1\n",
    "        intersect_count += range_lower_index - range_upper_index -1\n",
    "        if intersect_count > 10000000:\n",
    "            return -1\n",
    "    return intersect_count"
   ]
  },
  {
   "cell_type": "code",
   "execution_count": 64,
   "metadata": {},
   "outputs": [
    {
     "name": "stdout",
     "output_type": "stream",
     "text": [
      "11\n"
     ]
    }
   ],
   "source": [
    "A = [1,5,2,1,4,0]\n",
    "print(count_intersection(A))"
   ]
  },
  {
   "cell_type": "markdown",
   "metadata": {},
   "source": [
    "Task4"
   ]
  },
  {
   "cell_type": "code",
   "execution_count": 67,
   "metadata": {},
   "outputs": [
    {
     "name": "stdout",
     "output_type": "stream",
     "text": [
      "2\n"
     ]
    }
   ],
   "source": [
    "A = [4,3,2,1,5]\n",
    "B = [0,1,0,0,0]\n",
    "print(solution(A,B))"
   ]
  },
  {
   "cell_type": "code",
   "execution_count": 66,
   "metadata": {},
   "outputs": [],
   "source": [
    "def solution(A,B):\n",
    "    alive = len(A)\n",
    "    down = []\n",
    "    for size,direction in zip(A,B):\n",
    "        if direction == 1:\n",
    "            down.append(size)\n",
    "        else:\n",
    "            while down:\n",
    "                if size < down[-1]:\n",
    "                    alive = alive - 1\n",
    "                    break\n",
    "                else:\n",
    "                    down.pop()\n",
    "                    alive = alive - 1\n",
    "    return alive"
   ]
  },
  {
   "cell_type": "code",
   "execution_count": null,
   "metadata": {},
   "outputs": [],
   "source": []
  },
  {
   "cell_type": "code",
   "execution_count": null,
   "metadata": {},
   "outputs": [],
   "source": []
  }
 ],
 "metadata": {
  "kernelspec": {
   "display_name": "Python 3",
   "language": "python",
   "name": "python3"
  },
  "language_info": {
   "codemirror_mode": {
    "name": "ipython",
    "version": 3
   },
   "file_extension": ".py",
   "mimetype": "text/x-python",
   "name": "python",
   "nbconvert_exporter": "python",
   "pygments_lexer": "ipython3",
   "version": "3.8.5"
  }
 },
 "nbformat": 4,
 "nbformat_minor": 4
}
